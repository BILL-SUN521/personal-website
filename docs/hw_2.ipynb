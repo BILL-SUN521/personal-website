{
 "cells": [
  {
   "cell_type": "markdown",
   "metadata": {},
   "source": [
    "### 1．用加步探索法确定一维最优化问题$min_{t \\ge 0} \\varphi(t) = t^3 -2t + 1 $的搜索区间，要求选取$t_0 = 0, h_0 = 1 , a =2$. "
   ]
  },
  {
   "cell_type": "code",
   "execution_count": 33,
   "metadata": {},
   "outputs": [
    {
     "name": "stdout",
     "output_type": "stream",
     "text": [
      "在第 1 轮迭代中,t_ 1 = 0 ,phi(t_ 1 ) = 1 ,t_ 2  =  1 ,phi(t_ 2 ) =  0 ,h0 =  1\n",
      "最终的搜索区间为: [0, 3]\n"
     ]
    }
   ],
   "source": [
    "import numpy as np\n",
    "\n",
    "t0 = 0\n",
    "h0 = 1\n",
    "a = 2\n",
    "k = 0\n",
    "t = t0\n",
    "phi_t = lambda t: t**3 - 2*t + 1\n",
    "\n",
    "while phi_t(t + h0) < phi_t(t) or k == 0 :\n",
    "    if phi_t(t + h0) < phi_t(t):\n",
    "        k += 1\n",
    "        print(\"在第\",k,\"轮迭代中,t_\",k,\"=\",t,\",phi(t_\",k,\") =\",phi_t(t),\n",
    "              \",t_\",k+1,\" = \",t + h0,\",phi(t_\" , k+1, \") = \",phi_t(t + h0),\",h0 = \",h0)\n",
    "        t0 = t\n",
    "        t = t + h0\n",
    "        h0 = a * h0\n",
    "    else:\n",
    "        h0 = -1 * h0\n",
    "        t = t + h0\n",
    "\n",
    "a = min(t0, t + h0)\n",
    "b = max(t0, t + h0)\n",
    "search_interval = [a, b]\n",
    "print(\"最终的搜索区间为:\",search_interval)"
   ]
  },
  {
   "cell_type": "markdown",
   "metadata": {},
   "source": [
    "### 2．用对分法求解$min \\varphi(t) = t(t-3)$,已知初始单谷区间[a,b] = [-3,5]，按精度$\\epsilon = 0.1$计算．"
   ]
  },
  {
   "cell_type": "code",
   "execution_count": 39,
   "metadata": {},
   "outputs": [
    {
     "name": "stdout",
     "output_type": "stream",
     "text": [
      "第 1 次迭代,搜索区间为: [-3, 5]\n",
      "第 2 次迭代,搜索区间为: [1.0, 5]\n",
      "第 3 次迭代,搜索区间为: [1.0, 3.0]\n",
      "第 4 次迭代,搜索区间为: [1.0, 2.0]\n"
     ]
    },
    {
     "data": {
      "text/plain": [
       "1.5"
      ]
     },
     "execution_count": 39,
     "metadata": {},
     "output_type": "execute_result"
    }
   ],
   "source": [
    "def phi_t(t):\n",
    "    return t * (t - 3)\n",
    "\n",
    "def phi_t_prime(t):\n",
    "    return 2 * t - 3\n",
    "\n",
    "a = -3\n",
    "b = 5\n",
    "epsilon = 0.1\n",
    "count = 0\n",
    "while abs(b - a) > epsilon:\n",
    "    c = (a + b) / 2\n",
    "    if phi_t_prime(c) == 0:\n",
    "        count += 1\n",
    "        print(\"第\",count,\"次迭代,搜索区间为:\",[a, b])\n",
    "        a = b = c\n",
    "        break\n",
    "    elif phi_t_prime(a) * phi_t_prime(c) < 0:\n",
    "        count += 1\n",
    "        print(\"第\",count,\"次迭代,搜索区间为:\",[a, b])\n",
    "        b = c\n",
    "    else:\n",
    "        count += 1\n",
    "        print(\"第\",count,\"次迭代,搜索区间为:\",[a, b])\n",
    "        a = c\n",
    "\n",
    "optimal_t = (a + b) / 2\n",
    "optimal_t"
   ]
  },
  {
   "cell_type": "markdown",
   "metadata": {},
   "source": [
    "### 3．用Newton法求解$min_{t \\ge 0} \\varphi(t) = t^3 -2t + 1 $,用第１题求得的区间，按精度$\\epsilon = 0.01$计算．"
   ]
  },
  {
   "cell_type": "code",
   "execution_count": 48,
   "metadata": {},
   "outputs": [
    {
     "name": "stdout",
     "output_type": "stream",
     "text": [
      "Iteration 1 : t = 0.9722,phi(t) = -0.02548\n",
      "Iteration 2 : t = 0.829,phi(t) = -0.08828\n",
      "Iteration 3 : t = 0.8166,phi(t) = -0.08866\n",
      "Iteration 4 : t = 0.8165,phi(t) = -0.08866\n"
     ]
    },
    {
     "data": {
      "text/plain": [
       "0.8164965863169821"
      ]
     },
     "execution_count": 48,
     "metadata": {},
     "output_type": "execute_result"
    }
   ],
   "source": [
    "def phi_t(t):\n",
    "    return t**3 - 2*t + 1\n",
    "\n",
    "def derivative_phi_t(t):\n",
    "    return 3*t**2 - 2\n",
    "\n",
    "def second_derivative_phi_t(t):\n",
    "    return 6*t\n",
    "\n",
    "a = search_interval[0]\n",
    "b = search_interval[1]\n",
    "epsilon = 0.01\n",
    "\n",
    "t0 = (a + b) / 2\n",
    "t = t0 - derivative_phi_t(t0) / second_derivative_phi_t(t0)\n",
    "iteration = 1\n",
    "print(f\"Iteration {iteration} : t = {round(t,4)},phi(t) = {round(phi_t(t),5)}\")\n",
    "\n",
    "while abs(t - t0) > epsilon:\n",
    "    t0 = t\n",
    "    t = t - derivative_phi_t(t) / second_derivative_phi_t(t)\n",
    "    iteration += 1\n",
    "    print(f\"Iteration {iteration} : t = {round(t,4)},phi(t) = {round(phi_t(t),5)}\")\n",
    "\n",
    "optimal_t = t\n",
    "optimal_t"
   ]
  },
  {
   "cell_type": "markdown",
   "metadata": {},
   "source": [
    "### 4．用黄金分割法法求解$min \\varphi(t) = t(t+2)$,已知初始单谷区间[a,b] = [-3,5]，按精度$\\epsilon = 0.001$计算．      "
   ]
  },
  {
   "cell_type": "code",
   "execution_count": 13,
   "metadata": {},
   "outputs": [
    {
     "name": "stdout",
     "output_type": "stream",
     "text": [
      "Iteration 1: a = -3, b = 5,t2 = 0.056, t1 = 1.944\n",
      "Iteration 2: a = -3, b = 1.944,t2 = -1.111, t1 = 0.056\n",
      "Iteration 3: a = -3, b = 0.056,t2 = -1.833, t1 = -1.111\n",
      "Iteration 4: a = -1.833, b = 0.056,t2 = -1.111, t1 = -0.666\n",
      "Iteration 5: a = -1.833, b = -0.666,t2 = -1.387, t1 = -1.111\n",
      "Iteration 6: a = -1.387, b = -0.666,t2 = -1.111, t1 = -0.941\n",
      "Iteration 7: a = -1.111, b = -0.666,t2 = -0.941, t1 = -0.836\n",
      "Iteration 8: a = -1.111, b = -0.836,t2 = -1.006, t1 = -0.941\n",
      "Iteration 9: a = -1.111, b = -0.941,t2 = -1.046, t1 = -1.006\n",
      "Iteration 10: a = -1.046, b = -0.941,t2 = -1.006, t1 = -0.981\n",
      "Iteration 11: a = -1.046, b = -0.981,t2 = -1.022, t1 = -1.006\n",
      "Iteration 12: a = -1.022, b = -0.981,t2 = -1.006, t1 = -0.997\n",
      "Iteration 13: a = -1.006, b = -0.981,t2 = -0.997, t1 = -0.991\n",
      "Iteration 14: a = -1.006, b = -0.991,t2 = -1.0, t1 = -0.997\n",
      "Iteration 15: a = -1.006, b = -0.997,t2 = -1.003, t1 = -1.0\n",
      "Iteration 16: a = -1.003, b = -0.997,t2 = -1.0, t1 = -0.999\n",
      "Final result: t = -1.00077\n"
     ]
    }
   ],
   "source": [
    "def phi_t(t):\n",
    "    return t * (t + 2)\n",
    "\n",
    "a = -3\n",
    "b = 5\n",
    "epsilon = 0.001\n",
    "\n",
    "# Golden section formula\n",
    "golden_ratio = (1 + 5 ** 0.5) / 2\n",
    "\n",
    "t1 = a + (b - a) / golden_ratio\n",
    "t2 = b - (b - a) / golden_ratio\n",
    "\n",
    "iteration = 1\n",
    "\n",
    "while abs(t1 - t2) > epsilon:\n",
    "    print(f\"Iteration {iteration}: a = {round(a,3)}, b = {round(b,3)},t2 = {round(t2,3)}, t1 = {round(t1,3)}\")\n",
    "    if phi_t(t1) <= phi_t(t2):\n",
    "        a = t2\n",
    "        t2 = t1\n",
    "        t1 = a + (b - a) / golden_ratio\n",
    "    else:\n",
    "        b = t1\n",
    "        t1 = t2\n",
    "        t2 = b - (b - a) / golden_ratio\n",
    "\n",
    "    iteration += 1\n",
    "\n",
    "print(f\"Final result: t = {round((t1+t2)/2,5)}\")"
   ]
  },
  {
   "cell_type": "markdown",
   "metadata": {},
   "source": [
    "### 5．用抛物线插值法求解$min f(x) = 8x^3 -2x^2 - 7x + 3 $，已知初始单谷区间[a,b] = [0, 2]，按精度$\\epsilon = 0.001$计算"
   ]
  },
  {
   "cell_type": "code",
   "execution_count": 25,
   "metadata": {},
   "outputs": [
    {
     "name": "stdout",
     "output_type": "stream",
     "text": [
      "Iteration 1: [a, b] = [0, 1.0], t* = 0.549, f(t*) = -0.122\n",
      "Iteration 2: [a, b] = [0.523, 1.0], t* = 0.613, f(t*) = -0.2\n",
      "Iteration 3: [a, b] = [0.549, 1.0], t* = 0.621, f(t*) = -0.202\n",
      "Iteration 4: [a, b] = [0.613, 1.0], t* = 0.627, f(t*) = -0.203\n",
      "Iteration 5: [a, b] = [0.621, 1.0], t* = 0.629, f(t*) = -0.203\n",
      "Iteration 6: [a, b] = [0.627, 1.0], t* = 0.629, f(t*) = -0.203\n",
      "Final result: t* = 0.62947, function value =-0.20342]\n"
     ]
    }
   ],
   "source": [
    "def f(x):\n",
    "    return 8*x**3 - 2*x**2 - 7*x + 3\n",
    "\n",
    "a = 0\n",
    "b = 2\n",
    "epsilon = 0.001\n",
    "\n",
    "t0 = (a + b) / 2\n",
    "tbar = ( (t0**2-b**2)* f(a) + (b**2 - a**2)*f(t0) + (a**2-t0**2)*f(b) )/(\n",
    "    2 * ((t0-b)* f(a) + (b - a)*f(t0) + (a-t0)*f(b)))\n",
    "\n",
    "iteration = 1\n",
    "\n",
    "while abs(t0 - tbar) > epsilon:\n",
    "    \n",
    "    if f(tbar) <= f(t0) and tbar < t0:\n",
    "        b = t0\n",
    "        t0 = tbar\n",
    "    elif f(tbar) <= f(t0) and tbar > t0:\n",
    "        a = t0\n",
    "        t0 = tbar\n",
    "    elif f(tbar) > f(t0) and tbar < t0:\n",
    "        a = tbar\n",
    "    elif f(tbar) > f(t0) and tbar > t0:\n",
    "        b = tbar\n",
    "\n",
    "    tbar = ( (t0**2-b**2)* f(a) + (b**2 - a**2)*f(t0) + (a**2-t0**2)*f(b) )/(\n",
    "    2 * ((t0-b)* f(a) + (b - a)*f(t0) + (a-t0)*f(b)) )\n",
    "    print(f\"Iteration {iteration}: [a, b] = [{round(a,3)}, {round(b,3)}], t* = {round(tbar,3)}, f(t*) = {round(f(tbar),3)}\")\n",
    "\n",
    "    iteration += 1\n",
    "\n",
    "print(f\"Final result: t* = {round(tbar,5)}, function value ={round(f(tbar),5)}]\")"
   ]
  }
 ],
 "metadata": {
  "kernelspec": {
   "display_name": "base",
   "language": "python",
   "name": "python3"
  },
  "language_info": {
   "codemirror_mode": {
    "name": "ipython",
    "version": 3
   },
   "file_extension": ".py",
   "mimetype": "text/x-python",
   "name": "python",
   "nbconvert_exporter": "python",
   "pygments_lexer": "ipython3",
   "version": "3.9.16"
  }
 },
 "nbformat": 4,
 "nbformat_minor": 2
}
